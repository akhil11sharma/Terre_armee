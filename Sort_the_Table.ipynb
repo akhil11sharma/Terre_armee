{
 "cells": [
  {
   "cell_type": "code",
   "execution_count": 1,
   "id": "b5a58536-b432-46b5-ae0f-ee28d6fb11cd",
   "metadata": {},
   "outputs": [
    {
     "name": "stdout",
     "output_type": "stream",
     "text": [
      "   StudentID StudentName  StudentAge StudentDept\n",
      "0         16     Aarushi          23          IT\n",
      "1          5      Aditya          22       Sales\n",
      "2          2       Akhil          20          IT\n",
      "3         17       Aryan          22         CVT\n",
      "4         13        Ashu          22          IT\n"
     ]
    }
   ],
   "source": [
    "import pandas as pd\n",
    "file_path = 'test_data.csv'\n",
    "df = pd.read_csv(file_path)\n",
    "print(df.head())\n"
   ]
  },
  {
   "cell_type": "code",
   "execution_count": 2,
   "id": "a75ee889-2894-489a-8311-8b6316eb388a",
   "metadata": {},
   "outputs": [
    {
     "name": "stdout",
     "output_type": "stream",
     "text": [
      "Requirement already satisfied: pandas in /opt/anaconda3/lib/python3.11/site-packages (2.1.4)\n",
      "Requirement already satisfied: numpy<2,>=1.23.2 in /opt/anaconda3/lib/python3.11/site-packages (from pandas) (1.26.4)\n",
      "Requirement already satisfied: python-dateutil>=2.8.2 in /opt/anaconda3/lib/python3.11/site-packages (from pandas) (2.8.2)\n",
      "Requirement already satisfied: pytz>=2020.1 in /opt/anaconda3/lib/python3.11/site-packages (from pandas) (2023.3.post1)\n",
      "Requirement already satisfied: tzdata>=2022.1 in /opt/anaconda3/lib/python3.11/site-packages (from pandas) (2023.3)\n",
      "Requirement already satisfied: six>=1.5 in /opt/anaconda3/lib/python3.11/site-packages (from python-dateutil>=2.8.2->pandas) (1.16.0)\n",
      "Note: you may need to restart the kernel to use updated packages.\n"
     ]
    }
   ],
   "source": [
    "pip install pandas\n"
   ]
  },
  {
   "cell_type": "code",
   "execution_count": 3,
   "id": "df326eee-b222-45c1-ab0a-9c3dcf02fe96",
   "metadata": {},
   "outputs": [
    {
     "name": "stdout",
     "output_type": "stream",
     "text": [
      "    StudentID StudentName  StudentAge StudentDept\n",
      "0          16     Aarushi          23          IT\n",
      "1           5      Aditya          22       Sales\n",
      "2           2       Akhil          20          IT\n",
      "3          17       Aryan          22         CVT\n",
      "4          13        Ashu          22          IT\n",
      "5           4       Ayush          21          HR\n",
      "6           7      Ishita          20     Fashion\n",
      "7          14      Rachit          18          HR\n",
      "8          12       Rahul          21     Medical\n",
      "9          10       Ronak          19       Sales\n",
      "10          1       Ronit          20          IT\n",
      "11         15      Sakshi          19          HR\n",
      "12          9       Sneha          18          IT\n",
      "13          3       Uttam          19        Cons\n",
      "14          8   Vaishnavi          20         Law\n",
      "15          6    Vanshika          18          IT\n",
      "16         11        Yash          19        Cons\n"
     ]
    }
   ],
   "source": [
    "sorted_df = df.sort_values(by='StudentName')\n",
    "print(sorted_df)\n"
   ]
  },
  {
   "cell_type": "code",
   "execution_count": 4,
   "id": "653821b2-5c6a-4000-8adb-8aae87c9a403",
   "metadata": {},
   "outputs": [],
   "source": [
    "import tkinter as tk\n",
    "from tkinter import ttk, messagebox, simpledialog, IntVar\n",
    "import pandas as pd\n",
    "import os\n",
    "import tkinter.font as tkFont\n",
    "\n",
    "def load_data():\n",
    "    for i in tree.get_children():\n",
    "        tree.delete(i)\n",
    "    for index, row in df.iterrows():\n",
    "        tree.insert(\"\", \"end\", values=list(row))\n",
    "\n",
    "def replace_table_name():\n",
    "    global table_name\n",
    "    table_name = simpledialog.askstring(\"Replace Table Name\", \"Enter the New Name:\", initialvalue=os.path.splitext(os.path.basename(file_path))[0])\n",
    "    if table_name:\n",
    "        root.title(table_name)\n",
    "        tree.heading(\"#0\", text=table_name)\n",
    "        messagebox.showinfo(\"Table Name\", f\"Table name '{table_name}' set!\")\n",
    "\n",
    "def sort_data():\n",
    "    global df\n",
    "    if ascending_var.get() == 1:\n",
    "        df = df.sort_values(by='StudentName', ascending=True)\n",
    "    elif ascending_var.get() == 2:\n",
    "        df = df.sort_values(by='StudentName', ascending=False)\n",
    "    load_data() \n",
    "    messagebox.showinfo(\"Sort\", f\"Data sorted by 'StudentName' column in {'Ascending' if ascending_var.get() == 1 else 'Descending'} order!\")\n",
    "    save_button.config(state=tk.NORMAL) \n",
    "\n",
    "def save_to_database():\n",
    "    global file_path\n",
    "    df.to_csv(file_path, index=False)\n",
    "    messagebox.showinfo(\"Save to Database\", f\"Changes saved to '{file_path}'.\")\n",
    "\n",
    "file_path = 'test_data.csv'\n",
    "df = pd.read_csv(file_path)\n",
    "\n",
    "root = tk.Tk()\n",
    "root.title(os.path.splitext(os.path.basename(file_path))[0]) \n",
    "\n",
    "frame = tk.Frame(root)\n",
    "frame.pack(fill=tk.BOTH, expand=True, padx=10, pady=10)  \n",
    "\n",
    "tree = ttk.Treeview(frame, columns=list(df.columns), show='headings')\n",
    "tree.pack(side=tk.LEFT, fill=tk.BOTH, expand=True)  \n",
    "\n",
    "tree.heading(\"#0\", text=os.path.splitext(os.path.basename(file_path))[0])\n",
    "\n",
    "for col in df.columns:\n",
    "    tree.heading(col, text=col)\n",
    "    header_width = tkFont.Font().measure(col)  \n",
    "    tree.column(col, width=header_width + 10)\n",
    "\n",
    "load_data()\n",
    "\n",
    "ascending_var = IntVar()\n",
    "ascending_var.set(1) \n",
    "ascending_radio = tk.Radiobutton(root, text=\"Ascending\", variable=ascending_var, value=1)\n",
    "ascending_radio.pack(side=tk.LEFT, padx=10)\n",
    "\n",
    "descending_radio = tk.Radiobutton(root, text=\"Descending\", variable=ascending_var, value=2)\n",
    "descending_radio.pack(side=tk.LEFT, padx=10)\n",
    "\n",
    "sort_button = tk.Button(root, text=\"Sort Data\", command=sort_data)\n",
    "sort_button.pack(pady=10)\n",
    "\n",
    "insert_button = tk.Button(root, text=\"Replace Table Name\", command=replace_table_name)\n",
    "insert_button.pack(pady=10)\n",
    "\n",
    "save_button = tk.Button(root, text=\"Save to Database\", command=save_to_database, state=tk.DISABLED)\n",
    "save_button.pack(pady=10)\n",
    "\n",
    "root.mainloop()\n"
   ]
  },
  {
   "cell_type": "code",
   "execution_count": null,
   "id": "50eb59f3-1209-4b3c-9418-0d571c802826",
   "metadata": {},
   "outputs": [],
   "source": []
  }
 ],
 "metadata": {
  "kernelspec": {
   "display_name": "Python 3 (ipykernel)",
   "language": "python",
   "name": "python3"
  },
  "language_info": {
   "codemirror_mode": {
    "name": "ipython",
    "version": 3
   },
   "file_extension": ".py",
   "mimetype": "text/x-python",
   "name": "python",
   "nbconvert_exporter": "python",
   "pygments_lexer": "ipython3",
   "version": "3.11.7"
  }
 },
 "nbformat": 4,
 "nbformat_minor": 5
}
