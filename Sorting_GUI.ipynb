{
 "cells": [
  {
   "cell_type": "code",
   "execution_count": 1,
   "id": "43a268ab-b483-4b97-8e64-e9ec1b7d329b",
   "metadata": {},
   "outputs": [
    {
     "name": "stdout",
     "output_type": "stream",
     "text": [
      "    S.no            Name\n",
      "0      1    Akhil Sharma\n",
      "1      2     Ankit Tyagi\n",
      "2      3    Akansha Puri\n",
      "3      4    Kartik Dhaka\n",
      "4      5    Nitish Kumar\n",
      "5      6     Rohit Kumar\n",
      "6      7     Rahul Yadav\n",
      "7      8    Sanjay Dubet\n",
      "8      9  Ayush Tripathi\n",
      "9     10   Sumit Chauhan\n",
      "10    11   Pritam Rajput\n"
     ]
    }
   ],
   "source": [
    "import pandas as pd\n",
    "file_path = 'Names_data.xlsx'\n",
    "df = pd.read_excel(file_path)\n",
    "print(df)"
   ]
  },
  {
   "cell_type": "code",
   "execution_count": 2,
   "id": "d2cd773e-bbf6-44ae-8e77-9ac5a405cf17",
   "metadata": {},
   "outputs": [
    {
     "name": "stdout",
     "output_type": "stream",
     "text": [
      "    S.no           Name\n",
      "1      2    Ankit Tyagi\n",
      "4      5   Nitish Kumar\n",
      "10    11  Pritam Rajput\n",
      "5      6    Rohit Kumar\n",
      "9     10  Sumit Chauhan\n"
     ]
    }
   ],
   "source": [
    "\n",
    "sort_names = df[df['Name'].str.contains('it', na=False)].sort_values(by='Name')\n",
    "print(sort_names)\n"
   ]
  },
  {
   "cell_type": "code",
   "execution_count": 3,
   "id": "afe0e063-68f9-4075-a1b6-fef3575f37d3",
   "metadata": {},
   "outputs": [
    {
     "name": "stdout",
     "output_type": "stream",
     "text": [
      "Requirement already satisfied: tk in /opt/anaconda3/lib/python3.11/site-packages (0.1.0)\n",
      "Note: you may need to restart the kernel to use updated packages.\n"
     ]
    }
   ],
   "source": [
    "pip install tk"
   ]
  },
  {
   "cell_type": "code",
   "execution_count": 4,
   "id": "57da70fe-a40d-48fd-81f3-d8d22c21f9c0",
   "metadata": {
    "scrolled": true
   },
   "outputs": [],
   "source": [
    "import pandas as pd\n",
    "from tkinter import Tk, Listbox, Button\n",
    "\n",
    "def sort_names():\n",
    "    global df\n",
    "    sorted_names = df[df['Name'].str.contains('it', case=False)].sort_values(by='Name')\n",
    "    update_listbox(sorted_names)\n",
    "\n",
    "def update_listbox(sorted_names):\n",
    "    listbox.delete(0, 'end')\n",
    "    for name in sorted_names['Name']:\n",
    "        listbox.insert('end', name)\n",
    "\n",
    "df = pd.read_excel('Names_data.xlsx')\n",
    "\n",
    "root = Tk()\n",
    "root.title(\"Name Sorting GUI\")\n",
    "\n",
    "listbox = Listbox(root, width=50, height=20)\n",
    "listbox.pack()\n",
    "update_listbox(df)\n",
    "\n",
    "sort_button = Button(root, text=\"Sort Names\", command=sort_names)\n",
    "sort_button.pack()\n",
    "\n",
    "root.mainloop()\n",
    "\n"
   ]
  },
  {
   "cell_type": "code",
   "execution_count": null,
   "id": "1e484aaa-19c9-4055-9e01-917a4ebcc1ea",
   "metadata": {},
   "outputs": [],
   "source": []
  }
 ],
 "metadata": {
  "kernelspec": {
   "display_name": "Python 3 (ipykernel)",
   "language": "python",
   "name": "python3"
  },
  "language_info": {
   "codemirror_mode": {
    "name": "ipython",
    "version": 3
   },
   "file_extension": ".py",
   "mimetype": "text/x-python",
   "name": "python",
   "nbconvert_exporter": "python",
   "pygments_lexer": "ipython3",
   "version": "3.11.7"
  }
 },
 "nbformat": 4,
 "nbformat_minor": 5
}
